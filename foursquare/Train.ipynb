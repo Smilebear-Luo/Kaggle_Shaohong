{
  "cells": [
    {
      "cell_type": "code",
      "execution_count": null,
      "metadata": {
        "id": "Q72rUzUpBkBt"
      },
      "outputs": [],
      "source": [
        "!unzip -q /content/drive/MyDrive/Kaggle/Foursquare/data/foursquare-location-matching.zip"
      ]
    },
    {
      "cell_type": "code",
      "execution_count": null,
      "metadata": {
        "colab": {
          "base_uri": "https://localhost:8080/"
        },
        "id": "F-CtXOyhCcgV",
        "outputId": "76bc3a34-e1ec-471b-936f-01a92d0cc911"
      },
      "outputs": [
        {
          "name": "stdout",
          "output_type": "stream",
          "text": [
            "\u001b[K     |████████████████████████████████| 194 kB 15.1 MB/s \n",
            "\u001b[K     |████████████████████████████████| 2.0 MB 91.0 MB/s \n",
            "\u001b[K     |████████████████████████████████| 104 kB 66.9 MB/s \n",
            "\u001b[?25hLooking in indexes: https://pypi.org/simple, https://us-python.pkg.dev/colab-wheels/public/simple/\n",
            "Requirement already satisfied: lightgbm in /usr/local/lib/python3.7/dist-packages (2.2.3)\n",
            "Collecting lightgbm\n",
            "  Downloading lightgbm-3.3.2-py3-none-manylinux1_x86_64.whl (2.0 MB)\n",
            "\u001b[K     |████████████████████████████████| 2.0 MB 14.1 MB/s \n",
            "\u001b[?25hRequirement already satisfied: numpy in /usr/local/lib/python3.7/dist-packages (from lightgbm) (1.21.6)\n",
            "Requirement already satisfied: scikit-learn!=0.22.0 in /usr/local/lib/python3.7/dist-packages (from lightgbm) (1.0.2)\n",
            "Requirement already satisfied: wheel in /usr/local/lib/python3.7/dist-packages (from lightgbm) (0.37.1)\n",
            "Requirement already satisfied: scipy in /usr/local/lib/python3.7/dist-packages (from lightgbm) (1.4.1)\n",
            "Requirement already satisfied: joblib>=0.11 in /usr/local/lib/python3.7/dist-packages (from scikit-learn!=0.22.0->lightgbm) (1.1.0)\n",
            "Requirement already satisfied: threadpoolctl>=2.0.0 in /usr/local/lib/python3.7/dist-packages (from scikit-learn!=0.22.0->lightgbm) (3.1.0)\n",
            "Installing collected packages: lightgbm\n",
            "  Attempting uninstall: lightgbm\n",
            "    Found existing installation: lightgbm 2.2.3\n",
            "    Uninstalling lightgbm-2.2.3:\n",
            "      Successfully uninstalled lightgbm-2.2.3\n",
            "Successfully installed lightgbm-3.3.2\n",
            "Looking in indexes: https://pypi.org/simple, https://us-python.pkg.dev/colab-wheels/public/simple/\n",
            "Collecting lightgbm==3.3.1\n",
            "  Downloading lightgbm-3.3.1-py3-none-manylinux1_x86_64.whl (2.0 MB)\n",
            "\u001b[K     |████████████████████████████████| 2.0 MB 14.4 MB/s \n",
            "\u001b[?25hRequirement already satisfied: scikit-learn!=0.22.0 in /usr/local/lib/python3.7/dist-packages (from lightgbm==3.3.1) (1.0.2)\n",
            "Requirement already satisfied: wheel in /usr/local/lib/python3.7/dist-packages (from lightgbm==3.3.1) (0.37.1)\n",
            "Requirement already satisfied: scipy in /usr/local/lib/python3.7/dist-packages (from lightgbm==3.3.1) (1.4.1)\n",
            "Requirement already satisfied: numpy in /usr/local/lib/python3.7/dist-packages (from lightgbm==3.3.1) (1.21.6)\n",
            "Requirement already satisfied: joblib>=0.11 in /usr/local/lib/python3.7/dist-packages (from scikit-learn!=0.22.0->lightgbm==3.3.1) (1.1.0)\n",
            "Requirement already satisfied: threadpoolctl>=2.0.0 in /usr/local/lib/python3.7/dist-packages (from scikit-learn!=0.22.0->lightgbm==3.3.1) (3.1.0)\n",
            "Installing collected packages: lightgbm\n",
            "  Attempting uninstall: lightgbm\n",
            "    Found existing installation: lightgbm 3.3.2\n",
            "    Uninstalling lightgbm-3.3.2:\n",
            "      Successfully uninstalled lightgbm-3.3.2\n",
            "Successfully installed lightgbm-3.3.1\n"
          ]
        }
      ],
      "source": [
        "!pip install -q Levenshtein\n",
        "!pip install lightgbm --upgrade\n",
        "!pip install  lightgbm==3.3.1"
      ]
    },
    {
      "cell_type": "code",
      "execution_count": null,
      "metadata": {
        "id": "acgHyGJ-CXTV"
      },
      "outputs": [],
      "source": [
        "import pandas as pd\n",
        "import numpy as np\n",
        "from sklearn.neighbors import BallTree\n",
        "from sklearn.neighbors import KNeighborsRegressor\n",
        "from tqdm.notebook import tqdm\n",
        "from sklearn.model_selection import GroupKFold, KFold, StratifiedKFold\n",
        "import pickle\n",
        "import lightgbm as lgbm\n",
        "import Levenshtein\n",
        "import difflib\n",
        "import sklearn\n",
        "import joblib\n",
        "from sklearn.metrics import f1_score,accuracy_score,recall_score"
      ]
    },
    {
      "cell_type": "code",
      "execution_count": null,
      "metadata": {
        "id": "y_27sHT-CZl3"
      },
      "outputs": [],
      "source": [
        "def reduce_mem_usage(df):\n",
        "    \"\"\" iterate through all the columns of a dataframe and modify the data type\n",
        "        to reduce memory usage.        \n",
        "    \"\"\"\n",
        "    start_mem = df.memory_usage().sum() / 1024**2\n",
        "    print('Memory usage of dataframe is {:.2f} MB'.format(start_mem))\n",
        "    \n",
        "    for col in df.columns:\n",
        "        col_type = df[col].dtype\n",
        "        \n",
        "        if col_type != object:\n",
        "            c_min = df[col].min()\n",
        "            c_max = df[col].max()\n",
        "            if str(col_type)[:3] == 'int':\n",
        "                if c_min > np.iinfo(np.int8).min and c_max < np.iinfo(np.int8).max:\n",
        "                    df[col] = df[col].astype(np.int8)\n",
        "                elif c_min > np.iinfo(np.int16).min and c_max < np.iinfo(np.int16).max:\n",
        "                    df[col] = df[col].astype(np.int16)\n",
        "                elif c_min > np.iinfo(np.int32).min and c_max < np.iinfo(np.int32).max:\n",
        "                    df[col] = df[col].astype(np.int32)\n",
        "                elif c_min > np.iinfo(np.int64).min and c_max < np.iinfo(np.int64).max:\n",
        "                    df[col] = df[col].astype(np.int64)  \n",
        "            else:\n",
        "                if c_min > np.finfo(np.float16).min and c_max < np.finfo(np.float16).max:\n",
        "                    df[col] = df[col].astype(np.float16)\n",
        "                elif c_min > np.finfo(np.float32).min and c_max < np.finfo(np.float32).max:\n",
        "                    df[col] = df[col].astype(np.float32)\n",
        "                else:\n",
        "                    df[col] = df[col].astype(np.float64)\n",
        "\n",
        "    end_mem = df.memory_usage().sum() / 1024**2\n",
        "    print('Memory usage after optimization is: {:.2f} MB'.format(end_mem))\n",
        "    print('Decreased by {:.1f}%'.format(100 * (start_mem - end_mem) / start_mem))\n",
        "    \n",
        "    return df"
      ]
    },
    {
      "cell_type": "code",
      "execution_count": null,
      "metadata": {
        "colab": {
          "base_uri": "https://localhost:8080/"
        },
        "id": "eIvW_qvECmzw",
        "outputId": "65c8cdf3-2277-477e-9eba-3d58c2d77689"
      },
      "outputs": [
        {
          "name": "stdout",
          "output_type": "stream",
          "text": [
            "start read csv 0\n"
          ]
        },
        {
          "name": "stderr",
          "output_type": "stream",
          "text": [
            "/usr/local/lib/python3.7/dist-packages/IPython/core/interactiveshell.py:2882: DtypeWarning: Columns (91,94,104) have mixed types.Specify dtype option on import or set low_memory=False.\n",
            "  exec(code_obj, self.user_global_ns, self.user_ns)\n"
          ]
        },
        {
          "name": "stdout",
          "output_type": "stream",
          "text": [
            "Memory usage of dataframe is 1744.70 MB\n",
            "Memory usage after optimization is: 643.88 MB\n",
            "Decreased by 63.1%\n",
            "start read csv 1\n",
            "Memory usage of dataframe is 1745.04 MB\n",
            "Memory usage after optimization is: 646.08 MB\n",
            "Decreased by 63.0%\n",
            "start read csv 2\n"
          ]
        },
        {
          "name": "stderr",
          "output_type": "stream",
          "text": [
            "/usr/local/lib/python3.7/dist-packages/IPython/core/interactiveshell.py:2882: DtypeWarning: Columns (94,104) have mixed types.Specify dtype option on import or set low_memory=False.\n",
            "  exec(code_obj, self.user_global_ns, self.user_ns)\n"
          ]
        },
        {
          "name": "stdout",
          "output_type": "stream",
          "text": [
            "Memory usage of dataframe is 1744.30 MB\n",
            "Memory usage after optimization is: 643.73 MB\n",
            "Decreased by 63.1%\n",
            "start read csv 3\n",
            "Memory usage of dataframe is 1745.01 MB\n",
            "Memory usage after optimization is: 637.76 MB\n",
            "Decreased by 63.5%\n",
            "start read csv 4\n"
          ]
        },
        {
          "name": "stderr",
          "output_type": "stream",
          "text": [
            "/usr/local/lib/python3.7/dist-packages/IPython/core/interactiveshell.py:2882: DtypeWarning: Columns (94,101,104) have mixed types.Specify dtype option on import or set low_memory=False.\n",
            "  exec(code_obj, self.user_global_ns, self.user_ns)\n"
          ]
        },
        {
          "name": "stdout",
          "output_type": "stream",
          "text": [
            "Memory usage of dataframe is 1745.20 MB\n",
            "Memory usage after optimization is: 646.14 MB\n",
            "Decreased by 63.0%\n"
          ]
        },
        {
          "data": {
            "text/plain": [
              "0"
            ]
          },
          "execution_count": 5,
          "metadata": {},
          "output_type": "execute_result"
        }
      ],
      "source": [
        "input_path = '/content/drive/MyDrive/Kaggle/Foursquare/data/newdata/'\n",
        "import gc\n",
        "print('start read csv 0')\n",
        "train = pd.read_csv(input_path + 'train_data_v8_0.csv')\n",
        "train = reduce_mem_usage(train)\n",
        "train['fold'] = 0\n",
        "\n",
        "print('start read csv 1')\n",
        "train_1 = pd.read_csv(input_path + 'train_data_v8_1.csv')\n",
        "train_1 = reduce_mem_usage(train_1)\n",
        "train_1['fold'] = 1\n",
        "train = pd.concat([train,train_1],axis=0)\n",
        "del train_1\n",
        "gc.collect()\n",
        "\n",
        "print('start read csv 2')\n",
        "train_2 = pd.read_csv(input_path + 'train_data_v8_2.csv')\n",
        "train_2 = reduce_mem_usage(train_2)\n",
        "train_2['fold'] = 2\n",
        "train = pd.concat([train,train_2],axis=0)\n",
        "del train_2\n",
        "gc.collect()\n",
        "\n",
        "print('start read csv 3')\n",
        "train_3 = pd.read_csv(input_path + 'train_data_v8_3.csv')\n",
        "train_3 = reduce_mem_usage(train_3)\n",
        "train_3['fold'] = 3\n",
        "train = pd.concat([train,train_3],axis=0)\n",
        "del train_3\n",
        "gc.collect()\n",
        "\n",
        "print('start read csv 4')\n",
        "train_4 = pd.read_csv(input_path + 'train_data_v8_4.csv')\n",
        "train_4 = reduce_mem_usage(train_4)\n",
        "train_4['fold'] = 4\n",
        "train = pd.concat([train,train_4],axis=0)\n",
        "del train_4\n",
        "gc.collect()"
      ]
    },
    {
      "cell_type": "code",
      "execution_count": null,
      "metadata": {
        "id": "jKB-d-CyCqGo"
      },
      "outputs": [],
      "source": [
        "train = train.reset_index(drop=True)"
      ]
    },
    {
      "cell_type": "code",
      "execution_count": null,
      "metadata": {
        "colab": {
          "base_uri": "https://localhost:8080/"
        },
        "id": "FUYvcYrcvo9l",
        "outputId": "1e97d814-1764-4db2-e6cf-a548e0e2049d"
      },
      "outputs": [
        {
          "data": {
            "text/plain": [
              "(10890523, 106)"
            ]
          },
          "execution_count": 7,
          "metadata": {},
          "output_type": "execute_result"
        }
      ],
      "source": [
        "train.shape"
      ]
    },
    {
      "cell_type": "code",
      "execution_count": null,
      "metadata": {
        "id": "ncdesFNtNACn"
      },
      "outputs": [],
      "source": [
        "tdata = pd.read_csv('./train.csv')\n",
        "tdata['name'] = tdata['name'].isna().astype(int)\n",
        "tdata['categories'] = tdata['categories'].isna().astype(int)\n",
        "tdata['address'] = tdata['address'].isna().astype(int)\n",
        "tdata['state'] = tdata['state'].isna().astype(int)\n",
        "tdata['url'] = tdata['url'].isna().astype(int)\n",
        "tdata['country'] = tdata['country'].isna().astype(int)\n",
        "tdata['phone'] = tdata['phone'].isna().astype(int)\n",
        "\n",
        "tdata = tdata[['id','name', 'categories', 'address', 'state', \n",
        "               'url', 'country','phone']].drop_duplicates().reset_index(drop=True)"
      ]
    },
    {
      "cell_type": "code",
      "execution_count": null,
      "metadata": {
        "id": "kmqfvpqyVwq8"
      },
      "outputs": [],
      "source": [
        "def manhattan(lat1, long1, lat2, long2):\n",
        "    return np.abs(lat2 - lat1) + np.abs(long2 - long1)\n",
        "\n",
        "# get haversine distance\n",
        "def vectorized_haversine(lats1, lats2, longs1, longs2):\n",
        "    radius = 6371\n",
        "    dlat=np.radians(lats2 - lats1)\n",
        "    dlon=np.radians(longs2 - longs1)\n",
        "    a = np.sin(dlat/2) * np.sin(dlat/2) + np.cos(np.radians(lats1)) \\\n",
        "        * np.cos(np.radians(lats2)) * np.sin(dlon/2) * np.sin(dlon/2)\n",
        "    c = 2 * np.arctan2(np.sqrt(a), np.sqrt(1-a))\n",
        "    d = radius * c\n",
        "    return d\n",
        "\n",
        "def add_features(train,tdata):\n",
        "  train['latdiff'] = train['latitude_x'] - train['latitude_y']\n",
        "  train['londiff'] = train['longitude_x'] - train['longitude_y']\n",
        "  train['manhattan'] = manhattan(train['latitude_x'], train['longitude_x'], train['latitude_y'], train['longitude_y'])\n",
        "  train['euclidean'] = (train['latitude_x'] ** 2 + train['longitude_x'] ** 2) ** 0.5\n",
        "  train['haversine'] = vectorized_haversine(train['latitude_x'], train['longitude_x'], train['latitude_y'], train['longitude_y'])\n",
        "  train['kdist_diff'] = (train['kdist'] - train['kdist_country']) / train['kdist_country']\n",
        "  train['kneighbors_mean'] = train[['kneighbors', 'kneighbors_country']].mean(axis = 1)\n",
        "  train['sim_sum'] = train[[col for col in train.columns if 'sim' in col]].sum(axis=1)\n",
        "  train['gesh_sum'] = train[[col for col in train.columns if 'gesh' in col]].sum(axis=1)\n",
        "  train['leven_sum'] = train[[col for col in train.columns if '_leven' in col]].sum(axis=1)\n",
        "  train['jaro_sum'] = train[[col for col in train.columns if 'jaro' in col]].sum(axis=1)\n",
        "  train['lcs_sum'] = train[[col for col in train.columns if '_lcs' in col]].sum(axis=1)\n",
        "\n",
        "  train['sim_std'] = train[[col for col in train.columns if 'sim' in col]].std(axis=1)\n",
        "  train['gesh_std'] = train[[col for col in train.columns if 'gesh' in col]].std(axis=1)\n",
        "  train['leven_std'] = train[[col for col in train.columns if '_leven' in col]].std(axis=1)\n",
        "  train['jaro_std'] = train[[col for col in train.columns if 'jaro' in col]].std(axis=1)\n",
        "  train['lcs_std'] = train[[col for col in train.columns if '_lcs' in col]].std(axis=1)\n",
        "\n",
        "  train = train.merge(tdata, on='id', how='left')\n",
        "  train = train.merge(tdata, left_on='near_id', right_on='id', how='left', suffixes=['_1','_2'])\n",
        "  train = train.drop('id_2', axis=1).rename(columns={'id_1':'id'})\n",
        "  \n",
        "  train['info_power_1'] = train[[col for col in train.columns if '_1' in col]].lt(1).sum(axis=1)\n",
        "  train['info_power_2'] = train[[col for col in train.columns if '_2' in col]].lt(1).sum(axis=1)\n",
        "  train['info_diff'] = train['info_power_1'] - train['info_power_2']\n",
        "  del tdata\n",
        "    \n",
        "  return train"
      ]
    },
    {
      "cell_type": "code",
      "execution_count": null,
      "metadata": {
        "id": "-KNBYXJ1Vwtw"
      },
      "outputs": [],
      "source": [
        "train = add_features(train,tdata)"
      ]
    },
    {
      "cell_type": "code",
      "execution_count": null,
      "metadata": {
        "colab": {
          "base_uri": "https://localhost:8080/"
        },
        "id": "GZZpX8dGcT2z",
        "outputId": "51b041f8-2e31-49e8-d71a-60a576a58192"
      },
      "outputs": [
        {
          "name": "stdout",
          "output_type": "stream",
          "text": [
            "Memory usage of dataframe is 5244.94 MB\n",
            "Memory usage after optimization is: 3915.53 MB\n",
            "Decreased by 25.3%\n"
          ]
        }
      ],
      "source": [
        "train = reduce_mem_usage(train)"
      ]
    },
    {
      "cell_type": "code",
      "execution_count": null,
      "metadata": {
        "colab": {
          "base_uri": "https://localhost:8080/"
        },
        "id": "3SKN9F6dzQ2C",
        "outputId": "7a06b8e4-aa77-46f0-b178-4f41bdf686f2"
      },
      "outputs": [
        {
          "data": {
            "text/plain": [
              "50"
            ]
          },
          "execution_count": 14,
          "metadata": {},
          "output_type": "execute_result"
        }
      ],
      "source": [
        "import gc\n",
        "gc.collect()"
      ]
    },
    {
      "cell_type": "code",
      "execution_count": null,
      "metadata": {
        "id": "hvKTcV9v5-LO"
      },
      "outputs": [],
      "source": [
        "features = []\n",
        "num_features = ['kdist', 'kneighbors', 'kdist_country', 'kneighbors_country', \n",
        "       'name_sim','name_distilbert-base-uncased_cat_vec_sim', 'name_gesh', 'name_leven',\n",
        "       'name_jaro', 'name_lcs', 'name_len_diff', 'name_nleven', 'name_nlcsk',\n",
        "       'name_nlcs', 'address_sim', 'address_distilbert-base-uncased_cat_vec_sim',\n",
        "       'address_gesh', 'address_leven', 'address_jaro', 'address_lcs',\n",
        "       'address_len_diff', 'address_nleven', 'address_nlcsk', 'address_nlcs',\n",
        "       'city_gesh', 'city_leven', 'city_jaro', 'city_lcs', 'city_len_diff',\n",
        "       'city_nleven', 'city_nlcsk', 'city_nlcs', 'state_sim',\n",
        "       'state_distilbert-base-uncased_cat_vec_sim', 'state_gesh', 'state_leven',\n",
        "       'state_jaro', 'state_lcs', 'state_len_diff', 'state_nleven',\n",
        "       'state_nlcsk', 'state_nlcs', 'zip_gesh', 'zip_leven', 'zip_jaro',\n",
        "       'zip_lcs', 'url_sim','url_distilbert-base-uncased_cat_vec_sim', 'url_gesh', 'url_leven',\n",
        "       'url_jaro', 'url_lcs', 'url_len_diff', 'url_nleven', 'url_nlcsk',\n",
        "       'url_nlcs', 'phone_sim', 'phone_distilbert-base-uncased_cat_vec_sim',\n",
        "       'phone_gesh', 'phone_leven', 'phone_jaro', 'phone_lcs',\n",
        "       'categories_sim', 'categories_distilbert-base-uncased_cat_vec_sim',\n",
        "       'categories_gesh', 'categories_leven', 'categories_jaro',\n",
        "       'categories_lcs', 'categories_len_diff', 'categories_nleven',\n",
        "       'categories_nlcsk', 'categories_nlcs', 'country_sim',\n",
        "       'country_distilbert-base-uncased_cat_vec_sim', 'country_gesh',\n",
        "       'country_leven', 'country_jaro', 'country_lcs', 'country_len_diff',\n",
        "       'country_nleven', 'country_nlcsk', 'country_nlcs','latitude_y',\n",
        "       'longitude_y', 'latdiff', 'londiff', 'manhattan', 'euclidean', 'haversine',\n",
        "       'kdist_diff', 'kneighbors_mean', 'sim_sum', 'gesh_sum', 'leven_sum',\n",
        "       'jaro_sum', 'lcs_sum', 'sim_std', 'gesh_std', 'leven_std', 'jaro_std',\n",
        "       'lcs_std', 'name_1', 'categories_1', 'address_1', 'state_1', 'url_1',\n",
        "       'country_1', 'name_2', 'categories_2', 'address_2', 'state_2', 'url_2',\n",
        "       'country_2', 'info_power_1', 'info_power_2', 'info_diff']\n",
        "\n",
        "cat_features = [ 'city_x', 'city_y', 'country_x', 'country_y',  'state_x', 'state_y' , 'categories_x','categories_y']\n",
        "train[cat_features] = train[cat_features].astype('category')\n",
        "\n",
        "features = num_features  + cat_features"
      ]
    },
    {
      "cell_type": "code",
      "execution_count": null,
      "metadata": {
        "id": "g0a3EemICycz"
      },
      "outputs": [],
      "source": [
        "import lightgbm as lgbm\n",
        "import pickle\n",
        "import joblib\n",
        "import gc\n",
        "\n",
        "params = {\n",
        "    'learning_rate': 0.05,\n",
        "    'reg_alpha': 0.1,\n",
        "    'reg_lambda': 0.1,\n",
        "    'random_state': 42,\n",
        "    'max_depth': 3000,   \n",
        "    'num_leaves': 1500, \n",
        "    'n_estimators': 100000, \n",
        "    \"colsample_bytree\": 0.9,\n",
        "}\n",
        "\n",
        "def fit_lgbm(train):\n",
        "    models = []\n",
        "    for fold in tqdm(range(0,5)):\n",
        "          print(f'==fold{fold}==')\n",
        "          train_data = train[train['fold'] != fold]\n",
        "          X_train , y_train = train_data[features] , train_data['label']\n",
        "          val_data =  train[train['fold'] == fold]\n",
        "          X_val , y_val = val_data[features] , val_data['label']\n",
        "          del train_data , val_data\n",
        "          for _ in range(5):\n",
        "            gc.collect()\n",
        "          model = lgbm.LGBMClassifier(**params)\n",
        "          model.fit(X_train, y_train, eval_set=[(X_val, y_val)],early_stopping_rounds=10, eval_metric=['logloss','auc'],verbose=30)\n",
        "          pred = model.predict(X_val)\n",
        "          print('accuracy',accuracy_score(y_val.values,pred) , 'recall',recall_score(y_val.values,pred),'f1',f1_score(y_val.values,pred))\n",
        "          models.append(model)\n",
        "          joblib.dump(model,f'/content/drive/MyDrive/Kaggle/Foursquare/model/lgbm_fold{fold}_v7.pkl')\n",
        "          del  X_train , y_train , X_val , y_val ,pred\n",
        "          gc.collect()\n",
        "    return models\n"
      ]
    },
    {
      "cell_type": "code",
      "execution_count": null,
      "metadata": {
        "colab": {
          "base_uri": "https://localhost:8080/"
        },
        "id": "kHRxjdnWW-E8",
        "outputId": "608968c9-6697-4db8-da6b-e29e198d2f4a"
      },
      "outputs": [
        {
          "data": {
            "text/plain": [
              "62"
            ]
          },
          "execution_count": 24,
          "metadata": {},
          "output_type": "execute_result"
        }
      ],
      "source": [
        "import gc\n",
        "gc.collect()"
      ]
    },
    {
      "cell_type": "code",
      "execution_count": null,
      "metadata": {
        "colab": {
          "base_uri": "https://localhost:8080/"
        },
        "id": "MIWMx9M2Sl8v",
        "outputId": "8fa9249f-17d8-4a34-96ff-7fec1d259ae9"
      },
      "outputs": [
        {
          "data": {
            "text/plain": [
              "0    10220397\n",
              "1      670126\n",
              "Name: label, dtype: int64"
            ]
          },
          "execution_count": 25,
          "metadata": {},
          "output_type": "execute_result"
        }
      ],
      "source": [
        "train['label'].value_counts()"
      ]
    },
    {
      "cell_type": "code",
      "execution_count": null,
      "metadata": {
        "colab": {
          "base_uri": "https://localhost:8080/"
        },
        "id": "g_GCpEmLcj6B",
        "outputId": "6db91439-cf99-439d-aaf3-58dd7932cb71"
      },
      "outputs": [
        {
          "data": {
            "text/plain": [
              "141"
            ]
          },
          "execution_count": 26,
          "metadata": {},
          "output_type": "execute_result"
        }
      ],
      "source": [
        "gc.collect()"
      ]
    },
    {
      "cell_type": "code",
      "execution_count": null,
      "metadata": {
        "colab": {
          "background_save": true,
          "base_uri": "https://localhost:8080/",
          "height": 795,
          "referenced_widgets": [
            "03af663f5cd745a98fa4ba933d34658c",
            "4474d0ceed5649feb9510b9153bb533b",
            "0edf0928b1d14e8eae36861ae1271262",
            "908d3617d5a840fa8be2e38a6b656a07",
            "c7aa3fda15e9436ba6ef95e294d9b1e1",
            "0d2397c57fa942da9eb91229fd489f40",
            "0eaa8d6dbc04474bba2f4f004843d831",
            "ce2f9445bec34f15b8b65f34db608169",
            "315d9667393e4bda8e96969d43a01a08",
            "965808a42fe54cb3b84691ddf9d3c69a",
            "ae09dd4449e84d91887a6276eb1bad5c"
          ]
        },
        "id": "rgkVve11q8Au",
        "outputId": "658ad29a-53ae-455e-9218-6880dffd1650"
      },
      "outputs": [
        {
          "data": {
            "application/vnd.jupyter.widget-view+json": {
              "model_id": "03af663f5cd745a98fa4ba933d34658c",
              "version_major": 2,
              "version_minor": 0
            },
            "text/plain": [
              "  0%|          | 0/5 [00:00<?, ?it/s]"
            ]
          },
          "metadata": {},
          "output_type": "display_data"
        },
        {
          "name": "stdout",
          "output_type": "stream",
          "text": [
            "==fold0==\n"
          ]
        },
        {
          "name": "stderr",
          "output_type": "stream",
          "text": [
            "/usr/local/lib/python3.7/dist-packages/lightgbm/sklearn.py:726: UserWarning: 'early_stopping_rounds' argument is deprecated and will be removed in a future release of LightGBM. Pass 'early_stopping()' callback via 'callbacks' argument instead.\n",
            "  _log_warning(\"'early_stopping_rounds' argument is deprecated and will be removed in a future release of LightGBM. \"\n",
            "/usr/local/lib/python3.7/dist-packages/lightgbm/sklearn.py:736: UserWarning: 'verbose' argument is deprecated and will be removed in a future release of LightGBM. Pass 'log_evaluation()' callback via 'callbacks' argument instead.\n",
            "  _log_warning(\"'verbose' argument is deprecated and will be removed in a future release of LightGBM. \"\n",
            "/usr/local/lib/python3.7/dist-packages/lightgbm/basic.py:1780: UserWarning: Overriding the parameters from Reference Dataset.\n",
            "  _log_warning('Overriding the parameters from Reference Dataset.')\n",
            "/usr/local/lib/python3.7/dist-packages/lightgbm/basic.py:1513: UserWarning: categorical_column in param dict is overridden.\n",
            "  _log_warning(f'{cat_alias} in param dict is overridden.')\n"
          ]
        },
        {
          "name": "stdout",
          "output_type": "stream",
          "text": [
            "[30]\tvalid_0's binary_logloss: 0.0825176\tvalid_0's auc: 0.982191\n",
            "[60]\tvalid_0's binary_logloss: 0.0672756\tvalid_0's auc: 0.984389\n",
            "[90]\tvalid_0's binary_logloss: 0.0635169\tvalid_0's auc: 0.985546\n",
            "[120]\tvalid_0's binary_logloss: 0.0623739\tvalid_0's auc: 0.986208\n",
            "[150]\tvalid_0's binary_logloss: 0.0620641\tvalid_0's auc: 0.986511\n",
            "accuracy 0.977811826621492 recall 0.7532694635837804 f1 0.8066421254801537\n",
            "==fold1==\n"
          ]
        },
        {
          "name": "stderr",
          "output_type": "stream",
          "text": [
            "/usr/local/lib/python3.7/dist-packages/lightgbm/sklearn.py:726: UserWarning: 'early_stopping_rounds' argument is deprecated and will be removed in a future release of LightGBM. Pass 'early_stopping()' callback via 'callbacks' argument instead.\n",
            "  _log_warning(\"'early_stopping_rounds' argument is deprecated and will be removed in a future release of LightGBM. \"\n",
            "/usr/local/lib/python3.7/dist-packages/lightgbm/sklearn.py:736: UserWarning: 'verbose' argument is deprecated and will be removed in a future release of LightGBM. Pass 'log_evaluation()' callback via 'callbacks' argument instead.\n",
            "  _log_warning(\"'verbose' argument is deprecated and will be removed in a future release of LightGBM. \"\n",
            "/usr/local/lib/python3.7/dist-packages/lightgbm/basic.py:1780: UserWarning: Overriding the parameters from Reference Dataset.\n",
            "  _log_warning('Overriding the parameters from Reference Dataset.')\n",
            "/usr/local/lib/python3.7/dist-packages/lightgbm/basic.py:1513: UserWarning: categorical_column in param dict is overridden.\n",
            "  _log_warning(f'{cat_alias} in param dict is overridden.')\n"
          ]
        },
        {
          "name": "stdout",
          "output_type": "stream",
          "text": [
            "[30]\tvalid_0's binary_logloss: 0.0817658\tvalid_0's auc: 0.981831\n",
            "[60]\tvalid_0's binary_logloss: 0.0666861\tvalid_0's auc: 0.983856\n",
            "[90]\tvalid_0's binary_logloss: 0.0631642\tvalid_0's auc: 0.984809\n",
            "[120]\tvalid_0's binary_logloss: 0.0620456\tvalid_0's auc: 0.985559\n",
            "[150]\tvalid_0's binary_logloss: 0.0617819\tvalid_0's auc: 0.985882\n",
            "accuracy 0.9781581387662165 recall 0.7574957627754196 f1 0.809372132809276\n",
            "==fold2==\n"
          ]
        },
        {
          "name": "stderr",
          "output_type": "stream",
          "text": [
            "/usr/local/lib/python3.7/dist-packages/lightgbm/sklearn.py:726: UserWarning: 'early_stopping_rounds' argument is deprecated and will be removed in a future release of LightGBM. Pass 'early_stopping()' callback via 'callbacks' argument instead.\n",
            "  _log_warning(\"'early_stopping_rounds' argument is deprecated and will be removed in a future release of LightGBM. \"\n",
            "/usr/local/lib/python3.7/dist-packages/lightgbm/sklearn.py:736: UserWarning: 'verbose' argument is deprecated and will be removed in a future release of LightGBM. Pass 'log_evaluation()' callback via 'callbacks' argument instead.\n",
            "  _log_warning(\"'verbose' argument is deprecated and will be removed in a future release of LightGBM. \"\n",
            "/usr/local/lib/python3.7/dist-packages/lightgbm/basic.py:1780: UserWarning: Overriding the parameters from Reference Dataset.\n",
            "  _log_warning('Overriding the parameters from Reference Dataset.')\n",
            "/usr/local/lib/python3.7/dist-packages/lightgbm/basic.py:1513: UserWarning: categorical_column in param dict is overridden.\n",
            "  _log_warning(f'{cat_alias} in param dict is overridden.')\n"
          ]
        },
        {
          "name": "stdout",
          "output_type": "stream",
          "text": [
            "[30]\tvalid_0's binary_logloss: 0.0826442\tvalid_0's auc: 0.981552\n",
            "[60]\tvalid_0's binary_logloss: 0.0674292\tvalid_0's auc: 0.983397\n",
            "[90]\tvalid_0's binary_logloss: 0.0638201\tvalid_0's auc: 0.98459\n",
            "[120]\tvalid_0's binary_logloss: 0.0626829\tvalid_0's auc: 0.985271\n",
            "[150]\tvalid_0's binary_logloss: 0.0624053\tvalid_0's auc: 0.985617\n",
            "accuracy 0.9778752019016993 recall 0.7543341389908393 f1 0.807619351875886\n",
            "==fold3==\n"
          ]
        },
        {
          "name": "stderr",
          "output_type": "stream",
          "text": [
            "/usr/local/lib/python3.7/dist-packages/lightgbm/sklearn.py:726: UserWarning: 'early_stopping_rounds' argument is deprecated and will be removed in a future release of LightGBM. Pass 'early_stopping()' callback via 'callbacks' argument instead.\n",
            "  _log_warning(\"'early_stopping_rounds' argument is deprecated and will be removed in a future release of LightGBM. \"\n",
            "/usr/local/lib/python3.7/dist-packages/lightgbm/sklearn.py:736: UserWarning: 'verbose' argument is deprecated and will be removed in a future release of LightGBM. Pass 'log_evaluation()' callback via 'callbacks' argument instead.\n",
            "  _log_warning(\"'verbose' argument is deprecated and will be removed in a future release of LightGBM. \"\n",
            "/usr/local/lib/python3.7/dist-packages/lightgbm/basic.py:1780: UserWarning: Overriding the parameters from Reference Dataset.\n",
            "  _log_warning('Overriding the parameters from Reference Dataset.')\n",
            "/usr/local/lib/python3.7/dist-packages/lightgbm/basic.py:1513: UserWarning: categorical_column in param dict is overridden.\n",
            "  _log_warning(f'{cat_alias} in param dict is overridden.')\n"
          ]
        },
        {
          "name": "stdout",
          "output_type": "stream",
          "text": [
            "[30]\tvalid_0's binary_logloss: 0.0819687\tvalid_0's auc: 0.982497\n",
            "[60]\tvalid_0's binary_logloss: 0.0668036\tvalid_0's auc: 0.984178\n",
            "[90]\tvalid_0's binary_logloss: 0.0630712\tvalid_0's auc: 0.985421\n",
            "[120]\tvalid_0's binary_logloss: 0.0619167\tvalid_0's auc: 0.986115\n",
            "[150]\tvalid_0's binary_logloss: 0.0616141\tvalid_0's auc: 0.986412\n",
            "accuracy 0.9779782500214617 recall 0.7610993186777301 f1 0.8104462041822751\n",
            "==fold4==\n"
          ]
        },
        {
          "name": "stderr",
          "output_type": "stream",
          "text": [
            "/usr/local/lib/python3.7/dist-packages/lightgbm/sklearn.py:726: UserWarning: 'early_stopping_rounds' argument is deprecated and will be removed in a future release of LightGBM. Pass 'early_stopping()' callback via 'callbacks' argument instead.\n",
            "  _log_warning(\"'early_stopping_rounds' argument is deprecated and will be removed in a future release of LightGBM. \"\n",
            "/usr/local/lib/python3.7/dist-packages/lightgbm/sklearn.py:736: UserWarning: 'verbose' argument is deprecated and will be removed in a future release of LightGBM. Pass 'log_evaluation()' callback via 'callbacks' argument instead.\n",
            "  _log_warning(\"'verbose' argument is deprecated and will be removed in a future release of LightGBM. \"\n",
            "/usr/local/lib/python3.7/dist-packages/lightgbm/basic.py:1780: UserWarning: Overriding the parameters from Reference Dataset.\n",
            "  _log_warning('Overriding the parameters from Reference Dataset.')\n",
            "/usr/local/lib/python3.7/dist-packages/lightgbm/basic.py:1513: UserWarning: categorical_column in param dict is overridden.\n",
            "  _log_warning(f'{cat_alias} in param dict is overridden.')\n"
          ]
        },
        {
          "name": "stdout",
          "output_type": "stream",
          "text": [
            "[30]\tvalid_0's binary_logloss: 0.0820514\tvalid_0's auc: 0.982573\n",
            "[60]\tvalid_0's binary_logloss: 0.0667541\tvalid_0's auc: 0.984497\n",
            "[90]\tvalid_0's binary_logloss: 0.0630655\tvalid_0's auc: 0.985628\n",
            "[120]\tvalid_0's binary_logloss: 0.0618481\tvalid_0's auc: 0.986364\n",
            "[150]\tvalid_0's binary_logloss: 0.061492\tvalid_0's auc: 0.986769\n",
            "accuracy 0.9778067369766229 recall 0.7532195558205396 f1 0.8069769205894213\n"
          ]
        }
      ],
      "source": [
        "models = fit_lgbm(train)"
      ]
    },
    {
      "cell_type": "code",
      "execution_count": null,
      "metadata": {
        "id": "0BoD9Mr2C5rh"
      },
      "outputs": [],
      "source": [
        "def valid_lgbm(train,thesh=0.5):\n",
        "  train['pred'] = -1\n",
        "  for fold in tqdm(range(5)):\n",
        "    print(f'==fold{fold}==') \n",
        "    X_val , y_val = train[train['fold'] == fold][features] , train[train['fold'] == fold]['label']\n",
        "    model = joblib.load(f'/content/drive/MyDrive/Kaggle/Foursquare/model/lgbm_fold{fold}_v7.pkl')\n",
        "#     model = joblib.load(f\"../input/fork-of-train-and-submit-model/lgbm_fold{fold}.pkl\")\n",
        "    pred = model.predict_proba(X_val)[:,1]\n",
        "    train.loc[train['fold'] == fold , 'pred'] = pred\n",
        "    train['pred'] = [1 if i > hthes else 0 for i in train['pred']]\n",
        "  print('accuracy',accuracy_score(train['label'].values,train['pred'].values) , 'recall',recall_score(train['label'].values,train['pred'].values),'f1',f1_score(train['label'].values,train['pred'].values))\n",
        "  return train "
      ]
    },
    {
      "cell_type": "code",
      "execution_count": null,
      "metadata": {
        "id": "CP7OKaTBC8rC"
      },
      "outputs": [],
      "source": [
        "result = train[train['pred'] == 1][~train['near_id'].isnull()].sort_values(by='id_x')[['id_x','near_id']]\n",
        "result = result.reset_index(drop=True)\n",
        "result = result.groupby('id_x')['near_id'].apply(list).reset_index()\n",
        "result.columns = ['id_x','matches'] \n",
        "result['matches'] = result.apply(lambda x : [x['id_x']] + x['matches'],axis=1)"
      ]
    },
    {
      "cell_type": "code",
      "execution_count": null,
      "metadata": {
        "id": "O5UW1KC6rU0d"
      },
      "outputs": [],
      "source": [
        "result"
      ]
    },
    {
      "cell_type": "code",
      "execution_count": null,
      "metadata": {
        "id": "gonvQiQhC916"
      },
      "outputs": [],
      "source": [
        "train = pd.read_csv('./train.csv')\n",
        "train_copy = train.copy()\n",
        "train['matchs'] = ''\n",
        "poi_id = train_copy.groupby('point_of_interest')['id'].apply(list)\n",
        "poi_id = poi_id.reset_index()\n",
        "poi_id.columns = ['point_of_interest','target']\n",
        "train = train.merge(poi_id,on='point_of_interest')\n",
        "train = train.merge(result,left_on='id',right_on='id_x',how='left')\n",
        "train.loc[train['matches'].isnull() , 'matches'] = [i.split(',') for i in train.loc[train['matches'].isnull() , 'id']]\n",
        "train['matches'] = [i.split(',') if isinstance(i,str) else i for i in train['matches']]"
      ]
    },
    {
      "cell_type": "code",
      "execution_count": null,
      "metadata": {
        "id": "bSdzTX-vrYY3"
      },
      "outputs": [],
      "source": [
        "train['matches'] = train['matches'].apply(set).apply(list)"
      ]
    },
    {
      "cell_type": "code",
      "execution_count": null,
      "metadata": {
        "id": "iBSMyDqOC_L0"
      },
      "outputs": [],
      "source": [
        "def get_score(input_df,col):\n",
        "    input_df = input_df[~input_df[col].isnull()]\n",
        "    scores = []\n",
        "    for targets, preds in zip(input_df['target'].to_numpy(), input_df[col].to_numpy()):\n",
        "        score = len((set(targets) & set(preds))) / len((set(targets) | set(preds)))\n",
        "        scores.append(score)\n",
        "    scores = np.array(scores)\n",
        "    return scores.mean()\n",
        "\n",
        "get_score(train,'matches')"
      ]
    },
    {
      "cell_type": "code",
      "execution_count": null,
      "metadata": {
        "id": "va5_KkonDAhJ"
      },
      "outputs": [],
      "source": [
        "def postprocess_train(df):\n",
        "    id2match = dict(zip(df[\"id\"].values, df[\"matches\"]))\n",
        "    for match in tqdm(df[\"matches\"]):\n",
        "        if  len(match) == 1:        \n",
        "            continue\n",
        "        base = match[0]\n",
        "        for m in match[1:]:\n",
        "            if not base in id2match[m]:\n",
        "                id2match[m].append(base)\n",
        "    df[\"matches\"] = df[\"id\"].map(id2match)\n",
        "    return df "
      ]
    },
    {
      "cell_type": "code",
      "execution_count": null,
      "metadata": {
        "id": "3TC1l6lJDBqS"
      },
      "outputs": [],
      "source": [
        "train = postprocess_train(train)\n",
        "get_score(train,'matches')"
      ]
    },
    {
      "cell_type": "code",
      "execution_count": null,
      "metadata": {
        "id": "UljCbSNFDC1w"
      },
      "outputs": [],
      "source": [
        "import gc\n",
        "del train\n",
        "gc.collect()"
      ]
    },
    {
      "cell_type": "code",
      "execution_count": null,
      "metadata": {
        "id": "aWT8kx5aZ5pu"
      },
      "outputs": [],
      "source": [
        " "
      ]
    },
    {
      "cell_type": "code",
      "execution_count": null,
      "metadata": {
        "id": "vGooUUgj4PD6"
      },
      "outputs": [],
      "source": [
        " "
      ]
    },
    {
      "cell_type": "code",
      "execution_count": null,
      "metadata": {
        "id": "STUfMyvSBuDj"
      },
      "outputs": [],
      "source": [
        ""
      ]
    }
  ],
  "metadata": {
    "accelerator": "GPU",
    "colab": {
      "background_execution": "on",
      "collapsed_sections": [],
      "machine_shape": "hm",
      "name": "Model Training Lightgbm.ipynb",
      "provenance": []
    },
    "gpuClass": "standard",
    "kernelspec": {
      "display_name": "Python 3",
      "name": "python3"
    },
    "language_info": {
      "name": "python"
    },
    "widgets": {
      "application/vnd.jupyter.widget-state+json": {
        "03af663f5cd745a98fa4ba933d34658c": {
          "model_module": "@jupyter-widgets/controls",
          "model_module_version": "1.5.0",
          "model_name": "HBoxModel",
          "state": {
            "_dom_classes": [],
            "_model_module": "@jupyter-widgets/controls",
            "_model_module_version": "1.5.0",
            "_model_name": "HBoxModel",
            "_view_count": null,
            "_view_module": "@jupyter-widgets/controls",
            "_view_module_version": "1.5.0",
            "_view_name": "HBoxView",
            "box_style": "",
            "children": [
              "IPY_MODEL_4474d0ceed5649feb9510b9153bb533b",
              "IPY_MODEL_0edf0928b1d14e8eae36861ae1271262",
              "IPY_MODEL_908d3617d5a840fa8be2e38a6b656a07"
            ],
            "layout": "IPY_MODEL_c7aa3fda15e9436ba6ef95e294d9b1e1"
          }
        },
        "0d2397c57fa942da9eb91229fd489f40": {
          "model_module": "@jupyter-widgets/base",
          "model_module_version": "1.2.0",
          "model_name": "LayoutModel",
          "state": {
            "_model_module": "@jupyter-widgets/base",
            "_model_module_version": "1.2.0",
            "_model_name": "LayoutModel",
            "_view_count": null,
            "_view_module": "@jupyter-widgets/base",
            "_view_module_version": "1.2.0",
            "_view_name": "LayoutView",
            "align_content": null,
            "align_items": null,
            "align_self": null,
            "border": null,
            "bottom": null,
            "display": null,
            "flex": null,
            "flex_flow": null,
            "grid_area": null,
            "grid_auto_columns": null,
            "grid_auto_flow": null,
            "grid_auto_rows": null,
            "grid_column": null,
            "grid_gap": null,
            "grid_row": null,
            "grid_template_areas": null,
            "grid_template_columns": null,
            "grid_template_rows": null,
            "height": null,
            "justify_content": null,
            "justify_items": null,
            "left": null,
            "margin": null,
            "max_height": null,
            "max_width": null,
            "min_height": null,
            "min_width": null,
            "object_fit": null,
            "object_position": null,
            "order": null,
            "overflow": null,
            "overflow_x": null,
            "overflow_y": null,
            "padding": null,
            "right": null,
            "top": null,
            "visibility": null,
            "width": null
          }
        },
        "0eaa8d6dbc04474bba2f4f004843d831": {
          "model_module": "@jupyter-widgets/controls",
          "model_module_version": "1.5.0",
          "model_name": "DescriptionStyleModel",
          "state": {
            "_model_module": "@jupyter-widgets/controls",
            "_model_module_version": "1.5.0",
            "_model_name": "DescriptionStyleModel",
            "_view_count": null,
            "_view_module": "@jupyter-widgets/base",
            "_view_module_version": "1.2.0",
            "_view_name": "StyleView",
            "description_width": ""
          }
        },
        "0edf0928b1d14e8eae36861ae1271262": {
          "model_module": "@jupyter-widgets/controls",
          "model_module_version": "1.5.0",
          "model_name": "FloatProgressModel",
          "state": {
            "_dom_classes": [],
            "_model_module": "@jupyter-widgets/controls",
            "_model_module_version": "1.5.0",
            "_model_name": "FloatProgressModel",
            "_view_count": null,
            "_view_module": "@jupyter-widgets/controls",
            "_view_module_version": "1.5.0",
            "_view_name": "ProgressView",
            "bar_style": "",
            "description": "",
            "description_tooltip": null,
            "layout": "IPY_MODEL_ce2f9445bec34f15b8b65f34db608169",
            "max": 5,
            "min": 0,
            "orientation": "horizontal",
            "style": "IPY_MODEL_315d9667393e4bda8e96969d43a01a08",
            "value": 2
          }
        },
        "315d9667393e4bda8e96969d43a01a08": {
          "model_module": "@jupyter-widgets/controls",
          "model_module_version": "1.5.0",
          "model_name": "ProgressStyleModel",
          "state": {
            "_model_module": "@jupyter-widgets/controls",
            "_model_module_version": "1.5.0",
            "_model_name": "ProgressStyleModel",
            "_view_count": null,
            "_view_module": "@jupyter-widgets/base",
            "_view_module_version": "1.2.0",
            "_view_name": "StyleView",
            "bar_color": null,
            "description_width": ""
          }
        },
        "4474d0ceed5649feb9510b9153bb533b": {
          "model_module": "@jupyter-widgets/controls",
          "model_module_version": "1.5.0",
          "model_name": "HTMLModel",
          "state": {
            "_dom_classes": [],
            "_model_module": "@jupyter-widgets/controls",
            "_model_module_version": "1.5.0",
            "_model_name": "HTMLModel",
            "_view_count": null,
            "_view_module": "@jupyter-widgets/controls",
            "_view_module_version": "1.5.0",
            "_view_name": "HTMLView",
            "description": "",
            "description_tooltip": null,
            "layout": "IPY_MODEL_0d2397c57fa942da9eb91229fd489f40",
            "placeholder": "​",
            "style": "IPY_MODEL_0eaa8d6dbc04474bba2f4f004843d831",
            "value": " 40%"
          }
        },
        "908d3617d5a840fa8be2e38a6b656a07": {
          "model_module": "@jupyter-widgets/controls",
          "model_module_version": "1.5.0",
          "model_name": "HTMLModel",
          "state": {
            "_dom_classes": [],
            "_model_module": "@jupyter-widgets/controls",
            "_model_module_version": "1.5.0",
            "_model_name": "HTMLModel",
            "_view_count": null,
            "_view_module": "@jupyter-widgets/controls",
            "_view_module_version": "1.5.0",
            "_view_name": "HTMLView",
            "description": "",
            "description_tooltip": null,
            "layout": "IPY_MODEL_965808a42fe54cb3b84691ddf9d3c69a",
            "placeholder": "​",
            "style": "IPY_MODEL_ae09dd4449e84d91887a6276eb1bad5c",
            "value": " 2/5 [18:43&lt;28:20, 566.81s/it]"
          }
        },
        "965808a42fe54cb3b84691ddf9d3c69a": {
          "model_module": "@jupyter-widgets/base",
          "model_module_version": "1.2.0",
          "model_name": "LayoutModel",
          "state": {
            "_model_module": "@jupyter-widgets/base",
            "_model_module_version": "1.2.0",
            "_model_name": "LayoutModel",
            "_view_count": null,
            "_view_module": "@jupyter-widgets/base",
            "_view_module_version": "1.2.0",
            "_view_name": "LayoutView",
            "align_content": null,
            "align_items": null,
            "align_self": null,
            "border": null,
            "bottom": null,
            "display": null,
            "flex": null,
            "flex_flow": null,
            "grid_area": null,
            "grid_auto_columns": null,
            "grid_auto_flow": null,
            "grid_auto_rows": null,
            "grid_column": null,
            "grid_gap": null,
            "grid_row": null,
            "grid_template_areas": null,
            "grid_template_columns": null,
            "grid_template_rows": null,
            "height": null,
            "justify_content": null,
            "justify_items": null,
            "left": null,
            "margin": null,
            "max_height": null,
            "max_width": null,
            "min_height": null,
            "min_width": null,
            "object_fit": null,
            "object_position": null,
            "order": null,
            "overflow": null,
            "overflow_x": null,
            "overflow_y": null,
            "padding": null,
            "right": null,
            "top": null,
            "visibility": null,
            "width": null
          }
        },
        "ae09dd4449e84d91887a6276eb1bad5c": {
          "model_module": "@jupyter-widgets/controls",
          "model_module_version": "1.5.0",
          "model_name": "DescriptionStyleModel",
          "state": {
            "_model_module": "@jupyter-widgets/controls",
            "_model_module_version": "1.5.0",
            "_model_name": "DescriptionStyleModel",
            "_view_count": null,
            "_view_module": "@jupyter-widgets/base",
            "_view_module_version": "1.2.0",
            "_view_name": "StyleView",
            "description_width": ""
          }
        },
        "c7aa3fda15e9436ba6ef95e294d9b1e1": {
          "model_module": "@jupyter-widgets/base",
          "model_module_version": "1.2.0",
          "model_name": "LayoutModel",
          "state": {
            "_model_module": "@jupyter-widgets/base",
            "_model_module_version": "1.2.0",
            "_model_name": "LayoutModel",
            "_view_count": null,
            "_view_module": "@jupyter-widgets/base",
            "_view_module_version": "1.2.0",
            "_view_name": "LayoutView",
            "align_content": null,
            "align_items": null,
            "align_self": null,
            "border": null,
            "bottom": null,
            "display": null,
            "flex": null,
            "flex_flow": null,
            "grid_area": null,
            "grid_auto_columns": null,
            "grid_auto_flow": null,
            "grid_auto_rows": null,
            "grid_column": null,
            "grid_gap": null,
            "grid_row": null,
            "grid_template_areas": null,
            "grid_template_columns": null,
            "grid_template_rows": null,
            "height": null,
            "justify_content": null,
            "justify_items": null,
            "left": null,
            "margin": null,
            "max_height": null,
            "max_width": null,
            "min_height": null,
            "min_width": null,
            "object_fit": null,
            "object_position": null,
            "order": null,
            "overflow": null,
            "overflow_x": null,
            "overflow_y": null,
            "padding": null,
            "right": null,
            "top": null,
            "visibility": null,
            "width": null
          }
        },
        "ce2f9445bec34f15b8b65f34db608169": {
          "model_module": "@jupyter-widgets/base",
          "model_module_version": "1.2.0",
          "model_name": "LayoutModel",
          "state": {
            "_model_module": "@jupyter-widgets/base",
            "_model_module_version": "1.2.0",
            "_model_name": "LayoutModel",
            "_view_count": null,
            "_view_module": "@jupyter-widgets/base",
            "_view_module_version": "1.2.0",
            "_view_name": "LayoutView",
            "align_content": null,
            "align_items": null,
            "align_self": null,
            "border": null,
            "bottom": null,
            "display": null,
            "flex": null,
            "flex_flow": null,
            "grid_area": null,
            "grid_auto_columns": null,
            "grid_auto_flow": null,
            "grid_auto_rows": null,
            "grid_column": null,
            "grid_gap": null,
            "grid_row": null,
            "grid_template_areas": null,
            "grid_template_columns": null,
            "grid_template_rows": null,
            "height": null,
            "justify_content": null,
            "justify_items": null,
            "left": null,
            "margin": null,
            "max_height": null,
            "max_width": null,
            "min_height": null,
            "min_width": null,
            "object_fit": null,
            "object_position": null,
            "order": null,
            "overflow": null,
            "overflow_x": null,
            "overflow_y": null,
            "padding": null,
            "right": null,
            "top": null,
            "visibility": null,
            "width": null
          }
        }
      }
    }
  },
  "nbformat": 4,
  "nbformat_minor": 0
}